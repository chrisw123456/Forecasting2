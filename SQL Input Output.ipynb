{
 "cells": [
  {
   "cell_type": "code",
   "execution_count": null,
   "metadata": {
    "extensions": {
     "jupyter_dashboards": {
      "version": 1,
      "views": {
       "grid_default": {
        "col": 0,
        "height": 7,
        "hidden": false,
        "row": 0,
        "width": 4
       },
       "report_default": {}
      }
     }
    }
   },
   "outputs": [],
   "source": [
    "#pip install pymssql"
   ]
  },
  {
   "cell_type": "code",
   "execution_count": 1,
   "metadata": {
    "extensions": {
     "jupyter_dashboards": {
      "version": 1,
      "views": {
       "grid_default": {
        "hidden": true
       },
       "report_default": {}
      }
     }
    }
   },
   "outputs": [],
   "source": [
    "import pymssql\n",
    "from sqlalchemy import create_engine\n",
    "from sqlalchemy.engine import Engine\n",
    "from pymssql import Connection\n",
    "import pandas as pd\n"
   ]
  },
  {
   "cell_type": "code",
   "execution_count": 2,
   "metadata": {
    "extensions": {
     "jupyter_dashboards": {
      "version": 1,
      "views": {
       "grid_default": {
        "hidden": true
       },
       "report_default": {}
      }
     }
    },
    "format": "row"
   },
   "outputs": [],
   "source": [
    "# sql server engine func\n",
    "def get_engine(username:str, password:str, server:str, database:str) -> Engine:\n",
    "    \"\"\" connects to MS SQL Server\n",
    "    Args:\n",
    "        username (str)\n",
    "        password (str)\n",
    "        server (str)\n",
    "        database (str)\n",
    "    Returns:\n",
    "        Engine\n",
    "    \"\"\"\n",
    "    conn_string = f\"mssql+pymssql://{username}:{password}@{server}/{database}\"\n",
    "    engine = create_engine(conn_string)\n",
    "    return engine\n",
    "\n",
    "# get connection\n",
    "def get_cnx(username:str, password:str, server:str, database:str) -> Connection:\n",
    "    \"\"\" enables querying MS SQL Server\n",
    "    Args:\n",
    "        username (str): [description]\n",
    "        password (str): [description]\n",
    "        server (str): [description]\n",
    "        database (str): [description]\n",
    "    Returns:\n",
    "        pymssql.Connection: [description]\n",
    "    \"\"\"\n",
    "    cnx = pymssql.connect(user=username, password=password,\n",
    "                          host=server, database=database)\n",
    "    return cnx\n",
    "\n",
    "# read table to pandas\n",
    "def read_sql_table(table_name:str, cnx:pymssql.Connection) -> pd.DataFrame:\n",
    "    \"\"\"reads sql table into pandas df\n",
    "    Args:\n",
    "        table_name (str): table name in SQL DB\n",
    "        cnx (pymssql.Connection): connection object used to read query\n",
    "    Returns:\n",
    "        pd.DataFrame: [description]\n",
    "    \"\"\"\n",
    "    sql_table = pd.read_sql(sql=f\"SELECT * FROM {table_name}\",\n",
    "                            con=cnx)\n",
    "\n",
    "    return sql_table\n",
    "\n",
    "# write df tp sql server\n",
    "def write_df_to_sql(\n",
    "        expID: str, new_df: pd.DataFrame, table_name: str, cnx: Connection, engine: Engine,\n",
    "        replace_exist_table=False):\n",
    "    \"\"\"[summary]\n",
    "    #columns_to_consider: List[str]\n",
    "    Args:\n",
    "        new_df (pd.DataFrame): name of df to be written to sql db\n",
    "        table_name (str): name of table to write to \n",
    "        cnx (Connection): used to read sql tables\n",
    "        engine (Engine): used to write to sql db \n",
    "        columns_to_consider (List[str]): columns to be examined when checking for duplicates\n",
    "        init (bool, optional): indicates if tables need \n",
    "        to be created for the first time. Defaults to False.\n",
    "    \"\"\"\n",
    "    # add expID\n",
    "    new_df.insert(0,'ExpID',str(expID))\n",
    "\n",
    "    # conert all columns to string\n",
    "    new_df=new_df.applymap(str)\n",
    "\n",
    "    # convert all columns named with (min) to _min\n",
    "    new_df.columns=[i.replace('(min)','_min') if '(min)' in i else i for i in new_df.columns]\n",
    "    \n",
    "    #write new_df to sql server\n",
    "    if replace_exist_table:\n",
    "        if_exists='replace'\n",
    "    \n",
    "    else:  \n",
    "        if_exists='append'\n",
    "\n",
    "    new_df.to_sql(name=table_name,con=engine, index=False, if_exists=if_exists)\n",
    "    \n"
   ]
  },
  {
   "cell_type": "code",
   "execution_count": 3,
   "metadata": {
    "extensions": {
     "jupyter_dashboards": {
      "version": 1,
      "views": {
       "grid_default": {
        "hidden": true
       },
       "report_default": {}
      }
     }
    }
   },
   "outputs": [],
   "source": [
    "engine = get_engine(\"transam1\",\"Pass@0@0!\",\"usodcvsql0255\", \"NAO_PMO_Analytics\")"
   ]
  },
  {
   "cell_type": "code",
   "execution_count": 4,
   "metadata": {
    "extensions": {
     "jupyter_dashboards": {
      "version": 1,
      "views": {
       "grid_default": {
        "hidden": true
       },
       "report_default": {}
      }
     }
    }
   },
   "outputs": [],
   "source": [
    "connection = get_cnx(\"transam1\",\"Pass@0@0!\",\"usodcvsql0255\", \"NAO_PMO_Analytics\")"
   ]
  },
  {
   "cell_type": "code",
   "execution_count": 5,
   "metadata": {
    "extensions": {
     "jupyter_dashboards": {
      "version": 1,
      "views": {
       "grid_default": {
        "hidden": true
       },
       "report_default": {}
      }
     }
    }
   },
   "outputs": [],
   "source": [
    "# Read the input data already sitting on SQL \n",
    "data = read_sql_table(\"zzz_Forecast_Input\",connection)"
   ]
  },
  {
   "cell_type": "code",
   "execution_count": 6,
   "metadata": {
    "extensions": {
     "jupyter_dashboards": {
      "version": 1,
      "views": {
       "grid_default": {
        "hidden": true
       },
       "report_default": {}
      }
     }
    }
   },
   "outputs": [],
   "source": [
    "# Export this data to CSV to use in R\n",
    "data.to_csv(\"sql_input.csv\")"
   ]
  },
  {
   "cell_type": "code",
   "execution_count": 7,
   "metadata": {
    "extensions": {
     "jupyter_dashboards": {
      "version": 1,
      "views": {
       "grid_default": {
        "hidden": true
       },
       "report_default": {}
      }
     }
    }
   },
   "outputs": [
    {
     "data": {
      "text/html": [
       "<div>\n",
       "<style scoped>\n",
       "    .dataframe tbody tr th:only-of-type {\n",
       "        vertical-align: middle;\n",
       "    }\n",
       "\n",
       "    .dataframe tbody tr th {\n",
       "        vertical-align: top;\n",
       "    }\n",
       "\n",
       "    .dataframe thead th {\n",
       "        text-align: right;\n",
       "    }\n",
       "</style>\n",
       "<table border=\"1\" class=\"dataframe\">\n",
       "  <thead>\n",
       "    <tr style=\"text-align: right;\">\n",
       "      <th></th>\n",
       "      <th>Date</th>\n",
       "      <th>Scenario</th>\n",
       "      <th>Product</th>\n",
       "      <th>Sub.Product</th>\n",
       "      <th>Volumes</th>\n",
       "      <th>c1_AAA_ets</th>\n",
       "      <th>c1_AAN_ets</th>\n",
       "      <th>c1_add_holtlineartrend</th>\n",
       "      <th>c1_add_holtlineartrenddamp</th>\n",
       "      <th>c1_ANA_ets</th>\n",
       "      <th>...</th>\n",
       "      <th>c1_triple_holtwinters_multiplicative90</th>\n",
       "      <th>c1_triple_holtwinters_multiplicative91</th>\n",
       "      <th>c1_triple_holtwinters_multiplicative92</th>\n",
       "      <th>c1_triple_holtwinters_multiplicative93</th>\n",
       "      <th>c1_triple_holtwinters_multiplicative94</th>\n",
       "      <th>c1_triple_holtwinters_multiplicative95</th>\n",
       "      <th>c1_triple_holtwinters_multiplicative96</th>\n",
       "      <th>c1_triple_holtwinters_multiplicative97</th>\n",
       "      <th>c1_triple_holtwinters_multiplicative98</th>\n",
       "      <th>c1_triple_holtwinters_multiplicative99</th>\n",
       "    </tr>\n",
       "  </thead>\n",
       "  <tbody>\n",
       "    <tr>\n",
       "      <th>0</th>\n",
       "      <td>2019-01-01</td>\n",
       "      <td>Field Ops - Mass Markets - Test 7/7/2021</td>\n",
       "      <td>EAST</td>\n",
       "      <td>FL_TX</td>\n",
       "      <td>52567</td>\n",
       "      <td>0.0</td>\n",
       "      <td>0.0</td>\n",
       "      <td>0.0</td>\n",
       "      <td>0.0</td>\n",
       "      <td>0.0</td>\n",
       "      <td>...</td>\n",
       "      <td>0.0</td>\n",
       "      <td>0.0</td>\n",
       "      <td>0.0</td>\n",
       "      <td>0.0</td>\n",
       "      <td>0.0</td>\n",
       "      <td>0.0</td>\n",
       "      <td>0.0</td>\n",
       "      <td>0.0</td>\n",
       "      <td>0.0</td>\n",
       "      <td>0.0</td>\n",
       "    </tr>\n",
       "    <tr>\n",
       "      <th>1</th>\n",
       "      <td>2019-02-01</td>\n",
       "      <td>Field Ops - Mass Markets - Test 7/7/2021</td>\n",
       "      <td>EAST</td>\n",
       "      <td>FL_TX</td>\n",
       "      <td>45137</td>\n",
       "      <td>0.0</td>\n",
       "      <td>0.0</td>\n",
       "      <td>0.0</td>\n",
       "      <td>0.0</td>\n",
       "      <td>0.0</td>\n",
       "      <td>...</td>\n",
       "      <td>0.0</td>\n",
       "      <td>0.0</td>\n",
       "      <td>0.0</td>\n",
       "      <td>0.0</td>\n",
       "      <td>0.0</td>\n",
       "      <td>0.0</td>\n",
       "      <td>0.0</td>\n",
       "      <td>0.0</td>\n",
       "      <td>0.0</td>\n",
       "      <td>0.0</td>\n",
       "    </tr>\n",
       "    <tr>\n",
       "      <th>2</th>\n",
       "      <td>2019-03-01</td>\n",
       "      <td>Field Ops - Mass Markets - Test 7/7/2021</td>\n",
       "      <td>EAST</td>\n",
       "      <td>FL_TX</td>\n",
       "      <td>50092</td>\n",
       "      <td>0.0</td>\n",
       "      <td>0.0</td>\n",
       "      <td>0.0</td>\n",
       "      <td>0.0</td>\n",
       "      <td>0.0</td>\n",
       "      <td>...</td>\n",
       "      <td>0.0</td>\n",
       "      <td>0.0</td>\n",
       "      <td>0.0</td>\n",
       "      <td>0.0</td>\n",
       "      <td>0.0</td>\n",
       "      <td>0.0</td>\n",
       "      <td>0.0</td>\n",
       "      <td>0.0</td>\n",
       "      <td>0.0</td>\n",
       "      <td>0.0</td>\n",
       "    </tr>\n",
       "    <tr>\n",
       "      <th>3</th>\n",
       "      <td>2019-04-01</td>\n",
       "      <td>Field Ops - Mass Markets - Test 7/7/2021</td>\n",
       "      <td>EAST</td>\n",
       "      <td>FL_TX</td>\n",
       "      <td>51663</td>\n",
       "      <td>0.0</td>\n",
       "      <td>0.0</td>\n",
       "      <td>0.0</td>\n",
       "      <td>0.0</td>\n",
       "      <td>0.0</td>\n",
       "      <td>...</td>\n",
       "      <td>0.0</td>\n",
       "      <td>0.0</td>\n",
       "      <td>0.0</td>\n",
       "      <td>0.0</td>\n",
       "      <td>0.0</td>\n",
       "      <td>0.0</td>\n",
       "      <td>0.0</td>\n",
       "      <td>0.0</td>\n",
       "      <td>0.0</td>\n",
       "      <td>0.0</td>\n",
       "    </tr>\n",
       "    <tr>\n",
       "      <th>4</th>\n",
       "      <td>2019-05-01</td>\n",
       "      <td>Field Ops - Mass Markets - Test 7/7/2021</td>\n",
       "      <td>EAST</td>\n",
       "      <td>FL_TX</td>\n",
       "      <td>46423</td>\n",
       "      <td>0.0</td>\n",
       "      <td>0.0</td>\n",
       "      <td>0.0</td>\n",
       "      <td>0.0</td>\n",
       "      <td>0.0</td>\n",
       "      <td>...</td>\n",
       "      <td>0.0</td>\n",
       "      <td>0.0</td>\n",
       "      <td>0.0</td>\n",
       "      <td>0.0</td>\n",
       "      <td>0.0</td>\n",
       "      <td>0.0</td>\n",
       "      <td>0.0</td>\n",
       "      <td>0.0</td>\n",
       "      <td>0.0</td>\n",
       "      <td>0.0</td>\n",
       "    </tr>\n",
       "  </tbody>\n",
       "</table>\n",
       "<p>5 rows × 309 columns</p>\n",
       "</div>"
      ],
      "text/plain": [
       "         Date                                  Scenario Product Sub.Product  \\\n",
       "0  2019-01-01  Field Ops - Mass Markets - Test 7/7/2021    EAST       FL_TX   \n",
       "1  2019-02-01  Field Ops - Mass Markets - Test 7/7/2021    EAST       FL_TX   \n",
       "2  2019-03-01  Field Ops - Mass Markets - Test 7/7/2021    EAST       FL_TX   \n",
       "3  2019-04-01  Field Ops - Mass Markets - Test 7/7/2021    EAST       FL_TX   \n",
       "4  2019-05-01  Field Ops - Mass Markets - Test 7/7/2021    EAST       FL_TX   \n",
       "\n",
       "   Volumes  c1_AAA_ets  c1_AAN_ets  c1_add_holtlineartrend  \\\n",
       "0    52567         0.0         0.0                     0.0   \n",
       "1    45137         0.0         0.0                     0.0   \n",
       "2    50092         0.0         0.0                     0.0   \n",
       "3    51663         0.0         0.0                     0.0   \n",
       "4    46423         0.0         0.0                     0.0   \n",
       "\n",
       "   c1_add_holtlineartrenddamp  c1_ANA_ets  ...  \\\n",
       "0                         0.0         0.0  ...   \n",
       "1                         0.0         0.0  ...   \n",
       "2                         0.0         0.0  ...   \n",
       "3                         0.0         0.0  ...   \n",
       "4                         0.0         0.0  ...   \n",
       "\n",
       "   c1_triple_holtwinters_multiplicative90  \\\n",
       "0                                     0.0   \n",
       "1                                     0.0   \n",
       "2                                     0.0   \n",
       "3                                     0.0   \n",
       "4                                     0.0   \n",
       "\n",
       "   c1_triple_holtwinters_multiplicative91  \\\n",
       "0                                     0.0   \n",
       "1                                     0.0   \n",
       "2                                     0.0   \n",
       "3                                     0.0   \n",
       "4                                     0.0   \n",
       "\n",
       "   c1_triple_holtwinters_multiplicative92  \\\n",
       "0                                     0.0   \n",
       "1                                     0.0   \n",
       "2                                     0.0   \n",
       "3                                     0.0   \n",
       "4                                     0.0   \n",
       "\n",
       "   c1_triple_holtwinters_multiplicative93  \\\n",
       "0                                     0.0   \n",
       "1                                     0.0   \n",
       "2                                     0.0   \n",
       "3                                     0.0   \n",
       "4                                     0.0   \n",
       "\n",
       "   c1_triple_holtwinters_multiplicative94  \\\n",
       "0                                     0.0   \n",
       "1                                     0.0   \n",
       "2                                     0.0   \n",
       "3                                     0.0   \n",
       "4                                     0.0   \n",
       "\n",
       "   c1_triple_holtwinters_multiplicative95  \\\n",
       "0                                     0.0   \n",
       "1                                     0.0   \n",
       "2                                     0.0   \n",
       "3                                     0.0   \n",
       "4                                     0.0   \n",
       "\n",
       "   c1_triple_holtwinters_multiplicative96  \\\n",
       "0                                     0.0   \n",
       "1                                     0.0   \n",
       "2                                     0.0   \n",
       "3                                     0.0   \n",
       "4                                     0.0   \n",
       "\n",
       "   c1_triple_holtwinters_multiplicative97  \\\n",
       "0                                     0.0   \n",
       "1                                     0.0   \n",
       "2                                     0.0   \n",
       "3                                     0.0   \n",
       "4                                     0.0   \n",
       "\n",
       "   c1_triple_holtwinters_multiplicative98  \\\n",
       "0                                     0.0   \n",
       "1                                     0.0   \n",
       "2                                     0.0   \n",
       "3                                     0.0   \n",
       "4                                     0.0   \n",
       "\n",
       "   c1_triple_holtwinters_multiplicative99  \n",
       "0                                     0.0  \n",
       "1                                     0.0  \n",
       "2                                     0.0  \n",
       "3                                     0.0  \n",
       "4                                     0.0  \n",
       "\n",
       "[5 rows x 309 columns]"
      ]
     },
     "execution_count": 7,
     "metadata": {},
     "output_type": "execute_result"
    }
   ],
   "source": [
    "# Come back later when we need to export the final results from R\n",
    "exportsql = pd.read_csv(\"sql_export.csv\")\n",
    "exportsql.head()"
   ]
  },
  {
   "cell_type": "code",
   "execution_count": 8,
   "metadata": {
    "extensions": {
     "jupyter_dashboards": {
      "version": 1,
      "views": {
       "grid_default": {
        "hidden": true
       },
       "report_default": {}
      }
     }
    }
   },
   "outputs": [],
   "source": [
    "# Writing the final output from R to SQL as a table\n",
    "write_df_to_sql(\"t\", exportsql, \"zzz_chris_final\", connection ,  engine,\n",
    "        replace_exist_table=True)"
   ]
  },
  {
   "cell_type": "code",
   "execution_count": null,
   "metadata": {
    "extensions": {
     "jupyter_dashboards": {
      "version": 1,
      "views": {
       "grid_default": {
        "hidden": true
       },
       "report_default": {}
      }
     }
    }
   },
   "outputs": [],
   "source": []
  }
 ],
 "metadata": {
  "extensions": {
   "jupyter_dashboards": {
    "activeView": "grid_default",
    "version": 1,
    "views": {
     "grid_default": {
      "cellMargin": 10,
      "defaultCellHeight": 20,
      "maxColumns": 12,
      "name": "grid",
      "type": "grid"
     },
     "report_default": {
      "name": "report",
      "type": "report"
     }
    }
   }
  },
  "kernelspec": {
   "display_name": "Python 3.6 PySpark 2.4",
   "language": "python",
   "name": "pyspark3.6"
  },
  "language_info": {
   "codemirror_mode": {
    "name": "ipython",
    "version": 3
   },
   "file_extension": ".py",
   "mimetype": "text/x-python",
   "name": "python",
   "nbconvert_exporter": "python",
   "pygments_lexer": "ipython3",
   "version": "3.6.10"
  }
 },
 "nbformat": 4,
 "nbformat_minor": 2
}
